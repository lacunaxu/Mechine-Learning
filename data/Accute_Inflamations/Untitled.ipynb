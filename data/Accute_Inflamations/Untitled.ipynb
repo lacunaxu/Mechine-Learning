{
 "cells": [
  {
   "cell_type": "code",
   "execution_count": 5,
   "id": "c6f223ec",
   "metadata": {},
   "outputs": [
    {
     "name": "stdout",
     "output_type": "stream",
     "text": [
      "文件头信息（前100字节）: b'\\xff\\xfe3\\x005\\x00,\\x005\\x00\\t\\x00n\\x00o\\x00\\t\\x00y\\x00e\\x00s\\x00\\t\\x00n\\x00o\\x00\\t\\x00n\\x00o\\x00\\t\\x00n\\x00o\\x00\\t\\x00n\\x00o\\x00\\t\\x00n\\x00o\\x00\\r\\x00\\n\\x003\\x005\\x00,\\x009\\x00\\t\\x00n\\x00o\\x00\\t\\x00n\\x00o\\x00\\t\\x00y\\x00e\\x00s\\x00\\t\\x00y\\x00e\\x00s\\x00\\t\\x00y\\x00e\\x00'\n"
     ]
    }
   ],
   "source": [
    "# 使用 open 函数查看文件内容，读取文件的前几行，观察文件格式和编码\n",
    "file_path = 'diagnosis.data'\n",
    "\n",
    "try:\n",
    "    # 以二进制模式打开文件\n",
    "    with open(file_path, 'rb') as file:\n",
    "        # 读取文件的前100个字节\n",
    "        file_head = file.read(100)\n",
    "        print(\"文件头信息（前100字节）:\", file_head)\n",
    "        \n",
    "except Exception as e:\n",
    "    print(\"Error reading file:\", e)"
   ]
  },
  {
   "cell_type": "code",
   "execution_count": 9,
   "id": "a38252e7",
   "metadata": {},
   "outputs": [
    {
     "name": "stdout",
     "output_type": "stream",
     "text": [
      "      0   1    2    3    4    5    6   7\n",
      "0  35.5  no  yes   no   no   no   no  no\n",
      "1  35.9  no   no  yes  yes  yes  yes  no\n",
      "2  35.9  no  yes   no   no   no   no  no\n",
      "3  36.0  no   no  yes  yes  yes  yes  no\n",
      "4  36.0  no  yes   no   no   no   no  no\n",
      "0    float64\n",
      "1     object\n",
      "2     object\n",
      "3     object\n",
      "4     object\n",
      "5     object\n",
      "6     object\n",
      "7     object\n",
      "dtype: object\n"
     ]
    }
   ],
   "source": [
    "import pandas as pd\n",
    "\n",
    "file_path = 'diagnosis.data'\n",
    "\n",
    "try:\n",
    "    # 使用正确的 UTF-16 编码读取文件，并处理小数分隔符\n",
    "    data = pd.read_csv(file_path, header=None, encoding='utf-16', delimiter='\\t', decimal=',')\n",
    "    \n",
    "    # 查看前几行数据和数据类型\n",
    "    print(data.head())\n",
    "    print(data.dtypes)\n",
    "except Exception as e:\n",
    "    print(\"Error loading file:\", e)\n"
   ]
  },
  {
   "cell_type": "code",
   "execution_count": null,
   "id": "3da51fe1",
   "metadata": {},
   "outputs": [],
   "source": []
  }
 ],
 "metadata": {
  "kernelspec": {
   "display_name": "Python 3 (ipykernel)",
   "language": "python",
   "name": "python3"
  },
  "language_info": {
   "codemirror_mode": {
    "name": "ipython",
    "version": 3
   },
   "file_extension": ".py",
   "mimetype": "text/x-python",
   "name": "python",
   "nbconvert_exporter": "python",
   "pygments_lexer": "ipython3",
   "version": "3.10.9"
  }
 },
 "nbformat": 4,
 "nbformat_minor": 5
}
