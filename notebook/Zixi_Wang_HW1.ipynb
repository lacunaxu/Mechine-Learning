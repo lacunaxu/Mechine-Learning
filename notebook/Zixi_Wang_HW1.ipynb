{
 "cells": [
  {
   "cell_type": "code",
   "execution_count": 1,
   "id": "0aab72d4",
   "metadata": {},
   "outputs": [],
   "source": [
    "#Name: Zixi Wang\n",
    "#Github Username: lacunaxu\n",
    "#USC ID: 2854187591"
   ]
  },
  {
   "cell_type": "code",
   "execution_count": 2,
   "id": "c29b62ee",
   "metadata": {},
   "outputs": [],
   "source": [
    "from scipy.io import arff\n",
    "import pandas as pd\n",
    "from numpy.linalg import inv\n",
    "import matplotlib.pyplot as plt\n",
    "from scipy.io import arff\n",
    "import numpy as np\n",
    "from sklearn.model_selection import train_test_split\n",
    "from sklearn.neighbors import KNeighborsClassifier\n",
    "from sklearn.metrics import accuracy_score, confusion_matrix, precision_score, recall_score, f1_score"
   ]
  },
  {
   "cell_type": "code",
   "execution_count": 3,
   "id": "a8ad3dfe",
   "metadata": {},
   "outputs": [
    {
     "name": "stdout",
     "output_type": "stream",
     "text": [
      "   pelvic_incidence  pelvic_tilt  lumbar_lordosis_angle  sacral_slope  \\\n",
      "0         63.027817    22.552586              39.609117     40.475232   \n",
      "1         39.056951    10.060991              25.015378     28.995960   \n",
      "2         68.832021    22.218482              50.092194     46.613539   \n",
      "3         69.297008    24.652878              44.311238     44.644130   \n",
      "4         49.712859     9.652075              28.317406     40.060784   \n",
      "\n",
      "   pelvic_radius  degree_spondylolisthesis        class  \n",
      "0      98.672917                 -0.254400  b'Abnormal'  \n",
      "1     114.405425                  4.564259  b'Abnormal'  \n",
      "2     105.985135                 -3.530317  b'Abnormal'  \n",
      "3     101.868495                 11.211523  b'Abnormal'  \n",
      "4     108.168725                  7.918501  b'Abnormal'  \n"
     ]
    }
   ],
   "source": [
    "file_path = '../data/vertebral_column_data/column_2C_weka.arff'\n",
    "data, meta = arff.loadarff(file_path)\n",
    "\n",
    "df = pd.DataFrame(data)\n",
    "print(df.head())"
   ]
  },
  {
   "cell_type": "code",
   "execution_count": null,
   "id": "a4cad6f2",
   "metadata": {},
   "outputs": [],
   "source": []
  }
 ],
 "metadata": {
  "kernelspec": {
   "display_name": "Python 3 (ipykernel)",
   "language": "python",
   "name": "python3"
  },
  "language_info": {
   "codemirror_mode": {
    "name": "ipython",
    "version": 3
   },
   "file_extension": ".py",
   "mimetype": "text/x-python",
   "name": "python",
   "nbconvert_exporter": "python",
   "pygments_lexer": "ipython3",
   "version": "3.10.9"
  }
 },
 "nbformat": 4,
 "nbformat_minor": 5
}
